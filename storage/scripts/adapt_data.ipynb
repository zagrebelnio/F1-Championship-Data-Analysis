{
 "cells": [
  {
   "cell_type": "markdown",
   "metadata": {},
   "source": [
    "Circuits adaptation"
   ]
  },
  {
   "cell_type": "code",
   "execution_count": 22,
   "metadata": {},
   "outputs": [],
   "source": [
    "import pandas as pd\n",
    "\n",
    "df1 = pd.read_csv('../data/f1db-circuits.csv')\n",
    "\n",
    "circuits_df = pd.read_csv('../adapted_data/circuitsId.csv')\n",
    "\n",
    "countries_df = pd.read_csv('../adapted_data/countriesId.csv')\n",
    "\n",
    "merged_df = df1.merge(circuits_df, on='id', how='left')\n",
    "\n",
    "merged_df['id'] = merged_df['dbId']\n",
    "\n",
    "merged_df = merged_df.drop(columns=['dbId'])\n",
    "\n",
    "merged_df = merged_df.merge(countries_df, left_on='countryId', right_on='id', how='left', suffixes=('', '_country'))\n",
    "\n",
    "merged_df['countryId'] = merged_df['dbId']\n",
    "\n",
    "merged_df = merged_df.drop(columns=['dbId','previousNames','placeName', 'id_country', 'totalRacesHeld'])\n",
    "\n",
    "merged_df.to_csv('../input_data/f1db-circuits-updated.csv', index=False)"
   ]
  },
  {
   "cell_type": "markdown",
   "metadata": {},
   "source": [
    "Constructors adaptation"
   ]
  },
  {
   "cell_type": "code",
   "execution_count": 25,
   "metadata": {},
   "outputs": [],
   "source": [
    "df1 = pd.read_csv('../data/f1db-constructors.csv')\n",
    "\n",
    "constructors_df = pd.read_csv('../adapted_data/constructorsId.csv')\n",
    "\n",
    "countries_df = pd.read_csv('../adapted_data/countriesId.csv')\n",
    "\n",
    "merged_df = df1.merge(constructors_df, on='id', how='left')\n",
    "\n",
    "merged_df['id'] = merged_df['dbId']\n",
    "\n",
    "merged_df = merged_df.drop(columns=['dbId', 'bestChampionshipPosition',\n",
    "                                    'bestStartingGridPosition', 'bestRaceResult',\n",
    "                                    'totalChampionshipWins', 'totalRaceEntries',\n",
    "                                    'totalRaceStarts', 'totalRaceWins', 'total1And2Finishes',\n",
    "                                    'totalRaceLaps', 'totalPodiums', 'totalPodiumRaces',\n",
    "                                    'totalChampionshipPoints', 'totalPolePositions',\n",
    "                                    'totalFastestLaps'])\n",
    "\n",
    "merged_df = merged_df.merge(countries_df, left_on='countryId', right_on='id', how='left', suffixes=('', '_country'))\n",
    "\n",
    "merged_df['countryId'] = merged_df['dbId']\n",
    "\n",
    "merged_df = merged_df.drop(columns=['dbId', 'id_country'])\n",
    "\n",
    "merged_df.to_csv('../input_data/f1db-constructors-updated.csv', index=False)"
   ]
  },
  {
   "cell_type": "markdown",
   "metadata": {},
   "source": [
    "Drivers adaptation"
   ]
  },
  {
   "cell_type": "code",
   "execution_count": 34,
   "metadata": {},
   "outputs": [],
   "source": [
    "df1 = pd.read_csv('../data/f1db-drivers.csv')\n",
    "\n",
    "drivers_df = pd.read_csv('../adapted_data/driversId.csv')\n",
    "\n",
    "countries_df = pd.read_csv('../adapted_data/countriesId.csv')\n",
    "\n",
    "df1['permanentNumber'] = df1['permanentNumber'].astype('Int64')\n",
    "\n",
    "merged_df = df1.merge(drivers_df, on='id', how='left')\n",
    "\n",
    "merged_df['id'] = merged_df['dbId']\n",
    "\n",
    "merged_df = merged_df.drop(columns=['dbId', 'dateOfDeath', 'placeOfBirth', 'countryOfBirthCountryId', 'secondNationalityCountryId', \n",
    "                                    'bestChampionshipPosition', 'bestStartingGridPosition', 'bestRaceResult', 'totalChampionshipWins',\n",
    "                                    'totalRaceEntries', 'totalRaceStarts', 'totalRaceWins', 'totalRaceLaps', 'totalPodiums', \n",
    "                                    'totalPoints', 'totalChampionshipPoints', 'totalPolePositions', 'totalFastestLaps', \n",
    "                                    'totalDriverOfTheDay', 'totalGrandSlams'])\n",
    "\n",
    "merged_df = merged_df.merge(countries_df, left_on='nationalityCountryId', right_on='id', how='left', suffixes=('', '_nationality'))\n",
    "\n",
    "merged_df['nationalityCountryId'] = merged_df['dbId']\n",
    "\n",
    "merged_df = merged_df.drop(columns=['dbId', 'id_nationality'])\n",
    "\n",
    "merged_df.to_csv('../input_data/f1db-drivers-updated.csv', index=False)"
   ]
  },
  {
   "cell_type": "markdown",
   "metadata": {},
   "source": [
    "Countries adaptation"
   ]
  },
  {
   "cell_type": "code",
   "execution_count": 40,
   "metadata": {},
   "outputs": [],
   "source": [
    "df1 = pd.read_csv('../data/f1db-countries.csv')\n",
    "\n",
    "df2 = pd.read_csv('../adapted_data/countriesId.csv')\n",
    "\n",
    "merged_df = df1.merge(df2, on='id', how='left')\n",
    "\n",
    "merged_df['id'] = merged_df['dbId']\n",
    "\n",
    "merged_df = merged_df.drop(columns=['dbId','alpha2Code','continentId'])\n",
    "\n",
    "merged_df['countryId'] = countries_df['id']\n",
    "\n",
    "merged_df.to_csv('../input_data/f1db-countries-updated.csv', index=False)"
   ]
  },
  {
   "cell_type": "markdown",
   "metadata": {},
   "source": [
    "Grand-Prix adaptation"
   ]
  },
  {
   "cell_type": "code",
   "execution_count": 60,
   "metadata": {},
   "outputs": [],
   "source": [
    "df1 = pd.read_csv('../data/f1db-grands-prix.csv')\n",
    "\n",
    "df2 = pd.read_csv('../adapted_data/grand_prixId.csv')\n",
    "\n",
    "countries_df = pd.read_csv('../adapted_data/countriesId.csv')\n",
    "\n",
    "merged_df = df1.merge(df2, on='id', how='left')\n",
    "\n",
    "merged_df['id'] = merged_df['dbId']\n",
    "\n",
    "merged_df = merged_df.drop(columns=['dbId', 'totalRacesHeld'])\n",
    "\n",
    "merged_df = merged_df.merge(countries_df, left_on='countryId', right_on='id', how='left', suffixes=('', '_country'))\n",
    "\n",
    "merged_df['countryId'] = merged_df['dbId']\n",
    "\n",
    "merged_df = merged_df.drop(columns=['dbId', 'id_country'])\n",
    "\n",
    "merged_df['countryId'] = merged_df['countryId'].fillna(0)\n",
    "merged_df['countryId'] = merged_df['countryId'].astype('int64')\n",
    "\n",
    "merged_df.to_csv('../input_data/f1db-grands-prix-updated.csv', index=False)"
   ]
  },
  {
   "cell_type": "markdown",
   "metadata": {},
   "source": [
    "Seasons adaptation"
   ]
  },
  {
   "cell_type": "code",
   "execution_count": 16,
   "metadata": {},
   "outputs": [],
   "source": [
    "df1 = pd.read_csv('../data/f1db-seasons.csv')\n",
    "\n",
    "df2 = pd.read_csv('../adapted_data/seasonsId.csv')\n",
    "\n",
    "merged_df = df1.merge(df2, on='year', how='left')\n",
    "\n",
    "merged_df['year'] = merged_df['dbId']\n",
    "\n",
    "merged_df = merged_df.drop(columns=['dbId'])\n",
    "\n",
    "merged_df.to_csv('../input_data/f1db-seasons-updated.csv', index=False)"
   ]
  }
 ],
 "metadata": {
  "kernelspec": {
   "display_name": "Python 3",
   "language": "python",
   "name": "python3"
  },
  "language_info": {
   "codemirror_mode": {
    "name": "ipython",
    "version": 3
   },
   "file_extension": ".py",
   "mimetype": "text/x-python",
   "name": "python",
   "nbconvert_exporter": "python",
   "pygments_lexer": "ipython3",
   "version": "3.11.9"
  }
 },
 "nbformat": 4,
 "nbformat_minor": 2
}
