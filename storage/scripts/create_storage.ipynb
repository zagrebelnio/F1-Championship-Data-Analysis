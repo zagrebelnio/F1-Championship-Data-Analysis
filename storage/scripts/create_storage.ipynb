{
 "cells": [
  {
   "cell_type": "markdown",
   "metadata": {},
   "source": [
    "# Створення сховища"
   ]
  },
  {
   "cell_type": "markdown",
   "metadata": {},
   "source": [
    "Імпортуємо необхідні бібліотеки"
   ]
  },
  {
   "cell_type": "code",
   "execution_count": 33,
   "metadata": {},
   "outputs": [],
   "source": [
    "from dotenv import dotenv_values\n",
    "import psycopg2\n",
    "from sqlalchemy import create_engine, text"
   ]
  },
  {
   "cell_type": "markdown",
   "metadata": {},
   "source": [
    "Завантажуємо змінні оточення з .env файлу для з'єднання зі сховищем"
   ]
  },
  {
   "cell_type": "code",
   "execution_count": 34,
   "metadata": {},
   "outputs": [],
   "source": [
    "config = dotenv_values()\n",
    "\n",
    "DB_NAME = config.get('DB_NAME')\n",
    "DB_USER = config.get('DB_USER')\n",
    "DB_HOST = config.get('DB_HOST')\n",
    "DB_PASSWORD = config.get('DB_PASSWORD')\n",
    "DB_PORT = config.get('DB_PORT')"
   ]
  },
  {
   "cell_type": "markdown",
   "metadata": {},
   "source": [
    "Створюємо базу даних. Якщо вона уже існує, то використовуватимемо уже створену."
   ]
  },
  {
   "cell_type": "code",
   "execution_count": 35,
   "metadata": {},
   "outputs": [
    {
     "name": "stdout",
     "output_type": "stream",
     "text": [
      "Database 'f1championship' already exists.\n"
     ]
    }
   ],
   "source": [
    "DB_URL_NO_DB = f\"postgresql://{DB_USER}:{DB_PASSWORD}@{DB_HOST}:{DB_PORT}/\"\n",
    "\n",
    "try:\n",
    "    con = psycopg2.connect(\n",
    "        dbname='postgres',\n",
    "        user=DB_USER,\n",
    "        password=DB_PASSWORD,\n",
    "        host=DB_HOST,\n",
    "        port=DB_PORT\n",
    "    )\n",
    "    con.autocommit = True\n",
    "    cur = con.cursor()\n",
    "    cur.execute(f\"CREATE DATABASE {DB_NAME}\")\n",
    "    cur.close()\n",
    "    con.close()\n",
    "    print(f\"Database '{DB_NAME}' created successfully.\")\n",
    "except psycopg2.errors.DuplicateDatabase:\n",
    "    print(f\"Database '{DB_NAME}' already exists.\")\n",
    "except Exception as e:\n",
    "    print(f\"Error creating database '{DB_NAME}': {e}\")"
   ]
  },
  {
   "cell_type": "markdown",
   "metadata": {},
   "source": [
    "Створюємо таблиці"
   ]
  },
  {
   "cell_type": "code",
   "execution_count": 39,
   "metadata": {},
   "outputs": [
    {
     "name": "stdout",
     "output_type": "stream",
     "text": [
      "SQL script executed successfully.\n"
     ]
    }
   ],
   "source": [
    "DB_URL = f\"postgresql://{DB_USER}:{DB_PASSWORD}@{DB_HOST}:{DB_PORT}/{DB_NAME}\"\n",
    "\n",
    "engine = create_engine(DB_URL)\n",
    "\n",
    "with open('create_db.sql', 'r') as f:\n",
    "    create_sql = f.read()\n",
    "\n",
    "sql_commands = create_sql.split(';')\n",
    "sql_commands.pop()\n",
    "\n",
    "with engine.connect() as connection:\n",
    "    try:\n",
    "        transaction = connection.begin()\n",
    "        for script in sql_commands:\n",
    "            connection.execute(text(script))\n",
    "        transaction.commit()\n",
    "        print(\"SQL script executed successfully.\")\n",
    "    except Exception as e:\n",
    "        transaction.rollback()\n",
    "        print(f\"Error executing SQL script: {e}\")"
   ]
  }
 ],
 "metadata": {
  "kernelspec": {
   "display_name": "Python 3",
   "language": "python",
   "name": "python3"
  },
  "language_info": {
   "codemirror_mode": {
    "name": "ipython",
    "version": 3
   },
   "file_extension": ".py",
   "mimetype": "text/x-python",
   "name": "python",
   "nbconvert_exporter": "python",
   "pygments_lexer": "ipython3",
   "version": "3.11.5"
  }
 },
 "nbformat": 4,
 "nbformat_minor": 2
}
